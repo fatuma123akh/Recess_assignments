{
 "cells": [
  {
   "cell_type": "code",
   "execution_count": 1,
   "id": "3ae6f345",
   "metadata": {},
   "outputs": [
    {
     "name": "stdout",
     "output_type": "stream",
     "text": [
      "This is my tet file with information\n"
     ]
    }
   ],
   "source": [
    "# context manager for file handling that automatically opens and closes a file\n",
    "# Using the 'with' statement as a context manager for file handling\n",
    "with open('books.txt', 'r') as file:\n",
    "    # Perform operations on the file\n",
    "    book= file.read()\n",
    "    print(book)\n",
    "\n",
    "\n"
   ]
  },
  {
   "cell_type": "code",
   "execution_count": null,
   "id": "79ad7cb6",
   "metadata": {},
   "outputs": [],
   "source": [
    "#context manager for managing a database connection \n",
    "import mysql.connector\n",
    "\n",
    "class DatabaseConnection:\n",
    "    def __init__(self, host, user, password, database):\n",
    "        self.host = host\n",
    "        self.user = user\n",
    "        self.password = password\n",
    "        self.database = database\n",
    "        self.conn = None\n",
    "\n",
    "    def __enter__(self):\n",
    "        self.conn = mysql.connector.connect(\n",
    "            host=self.host,\n",
    "            user=self.user,\n",
    "            password=self.password,\n",
    "            database=self.database\n",
    "        )\n",
    "        return self.conn\n",
    "\n",
    "    def __exit__(self, exc_type, exc_val, exc_tb):\n",
    "        if self.conn is not None:\n",
    "            self.conn.close()\n",
    "\n",
    "# Example can be\n",
    "with DatabaseConnection(\n",
    "        host='localhost',\n",
    "        user='myuser',\n",
    "        password='mypassword',\n",
    "        database='mydatabase'\n",
    ") as conn:\n",
    "    # Use the connection to perform SQL operations\n",
    "    cursor = conn.cursor()\n",
    "    cursor.execute(\"SELECT * FROM mytable\")\n",
    "    rows = cursor.fetchall()\n",
    "    for row in rows:\n",
    "        print(row)\n"
   ]
  },
  {
   "cell_type": "code",
   "execution_count": 2,
   "id": "5adf2c42",
   "metadata": {},
   "outputs": [
    {
     "name": "stdout",
     "output_type": "stream",
     "text": [
      "Starting Function 1...\n",
      "Starting Function 2...\n",
      "Function 1 finished.\n",
      "Function 2 finished.\n",
      "All threads are done.\n"
     ]
    }
   ],
   "source": [
    "# Multithreading and multiprocessing a function at different amounts of time\n",
    "#Multithreading\n",
    "import threading\n",
    "import time\n",
    "\n",
    "# function to be executed in a separate thread\n",
    "def run_function(name, duration):\n",
    "    print(f\"Starting {name}...\")\n",
    "    time.sleep(duration)\n",
    "    print(f\"{name} finished.\")\n",
    "\n",
    "# Different threads with different durations\n",
    "thread1 = threading.Thread(target=run_function, args=(\"Function 1\", 3))\n",
    "thread2 = threading.Thread(target=run_function, args=(\"Function 2\", 5))\n",
    "\n",
    "# Starting  the threads\n",
    "thread1.start()\n",
    "thread2.start()\n",
    "\n",
    "# Waiting for the threads to finish\n",
    "thread1.join()\n",
    "thread2.join()\n",
    "\n",
    "print(\"All threads are done.\")\n"
   ]
  },
  {
   "cell_type": "code",
   "execution_count": null,
   "id": "40c71636",
   "metadata": {},
   "outputs": [],
   "source": [
    "# Multiprocessing\n",
    "from multiprocessing import Process\n",
    "import time\n",
    "\n",
    "# Function to be executed in a separate process\n",
    "def run_function(name, duration):\n",
    "    print(f\"Starting {name}...\")\n",
    "    time.sleep(duration)\n",
    "    print(f\"{name} finished.\")\n",
    "\n",
    "# Creating different processes with different durations\n",
    "process1 = Process(target=run_function, args=(\"Function 1\", 3))\n",
    "process2 = Process(target=run_function, args=(\"Function 2\", 5))\n",
    "\n",
    "# Starting the processes\n",
    "process1.start()\n",
    "process2.start()\n",
    "\n",
    "# Waiting for the processes to finish\n",
    "process1.join()\n",
    "process2.join()\n",
    "\n",
    "print(\"All processes finished.\")\n"
   ]
  }
 ],
 "metadata": {
  "kernelspec": {
   "display_name": "Python 3 (ipykernel)",
   "language": "python",
   "name": "python3"
  },
  "language_info": {
   "codemirror_mode": {
    "name": "ipython",
    "version": 3
   },
   "file_extension": ".py",
   "mimetype": "text/x-python",
   "name": "python",
   "nbconvert_exporter": "python",
   "pygments_lexer": "ipython3",
   "version": "3.10.9"
  }
 },
 "nbformat": 4,
 "nbformat_minor": 5
}
